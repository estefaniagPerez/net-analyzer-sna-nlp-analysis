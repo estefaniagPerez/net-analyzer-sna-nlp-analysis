{
 "cells": [
  {
   "cell_type": "markdown",
   "metadata": {},
   "source": [
    "# NetworkX\n",
    "This is a test to check how to analyse social networks with the python librarie networkX"
   ]
  },
  {
   "cell_type": "markdown",
   "metadata": {},
   "source": [
    "## Setup Libraries\n",
    "\n",
    "**Install necessary libraries**: If you haven't already installed `pandas` and `networkx`, you can do so using pip or conda. For example, to install them via conda, you would run the following commands in your terminal or command prompt\n",
    "\n",
    "```sh\n",
    "conda install pandas anaconda::networkx matplotlib scipy\n",
    "```\n",
    "\n",
    "Once done, you are good to start coding"
   ]
  },
  {
   "cell_type": "markdown",
   "metadata": {},
   "source": [
    "## Start Coding\n",
    "### Step 1: Import CSV File\n",
    "First we are going to import the data from a csv file using pandas"
   ]
  },
  {
   "cell_type": "code",
   "execution_count": 1,
   "metadata": {},
   "outputs": [],
   "source": [
    "import pandas as pd\n",
    "df = pd.read_csv('theyoungturks_tutorial.csv')\n",
    "#print(df.head())"
   ]
  },
  {
   "cell_type": "markdown",
   "metadata": {},
   "source": [
    "### Step 2: Create a network from the data\n",
    "Assuming your CSV has at least two columns representing nodes or edges"
   ]
  },
  {
   "cell_type": "code",
   "execution_count": 2,
   "metadata": {},
   "outputs": [
    {
     "name": "stdout",
     "output_type": "stream",
     "text": [
      "DiGraph with 532 nodes and 552 edges\n"
     ]
    }
   ],
   "source": [
    "import networkx as nx\n",
    "Graphtype=nx.DiGraph() \n",
    "G = nx.from_pandas_edgelist(df, source='Source', target='Target',edge_attr='Link', create_using=Graphtype)\n",
    "print(G)"
   ]
  },
  {
   "cell_type": "markdown",
   "metadata": {},
   "source": [
    "### Step 3: Plot the Network using Matplotlib\n",
    "Using matplotlib librarie the network graph you created in step 2. You can use different layouts to visualize your network. Here are some examples of layouts that you might want to try:\n",
    "- spring_layout: This is a default layout that positions nodes using springs that pull them towards their neighbors and repel them from each other.\n",
    "- spectral_layout: This layout uses the graph's adjacency matrix eigenvalues for positioning the nodes.\n",
    "- circular_layout: This layout places nodes in a circle around a central node.\n",
    "- random_layout: This layout randomly positions the nodes on the canvas.\n",
    "\n",
    "We can implement spring_layout with 100 iterations and a cooling factor of 0.95 as follows:\n"
   ]
  },
  {
   "cell_type": "code",
   "execution_count": 4,
   "metadata": {},
   "outputs": [],
   "source": [
    "import networkx as nx\n",
    "pos = nx.spectral_layout(G)  # You can try 'shell_layout' or 'spectral_layout' for large graphs\n"
   ]
  },
  {
   "cell_type": "code",
   "execution_count": 1,
   "metadata": {},
   "outputs": [],
   "source": [
    "import networkx as nx\n",
    "#nx.draw(G, pos, with_labels=False, node_size=20, edge_color='gray', node_color='blue', arrows=True)\n",
    "G = nx.empty_graph(10)\n",
    "nx.draw(G)"
   ]
  },
  {
   "cell_type": "code",
   "execution_count": 3,
   "metadata": {},
   "outputs": [],
   "source": [
    "import matplotlib.pyplot as plt\n",
    "\n",
    "plt.show()"
   ]
  },
  {
   "cell_type": "code",
   "execution_count": 1,
   "metadata": {},
   "outputs": [],
   "source": [
    "import matplotlib.pyplot as plt\n",
    "\n",
    "plt.plot([1, 2, 3, 4], [10, 20, 25, 30])\n",
    "plt.show()  # This displays the plot\n"
   ]
  }
 ],
 "metadata": {
  "kernelspec": {
   "display_name": "Python 3",
   "language": "python",
   "name": "python3"
  },
  "language_info": {
   "codemirror_mode": {
    "name": "ipython",
    "version": 3
   },
   "file_extension": ".py",
   "mimetype": "text/x-python",
   "name": "python",
   "nbconvert_exporter": "python",
   "pygments_lexer": "ipython3",
   "version": "3.11.9"
  }
 },
 "nbformat": 4,
 "nbformat_minor": 2
}
