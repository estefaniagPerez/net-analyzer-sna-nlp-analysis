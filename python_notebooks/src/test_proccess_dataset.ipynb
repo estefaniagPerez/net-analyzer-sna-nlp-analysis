{
 "cells": [
  {
   "cell_type": "markdown",
   "metadata": {},
   "source": [
    "### Importing Pandas\n",
    "\n",
    "First import the Pandas library:"
   ]
  },
  {
   "cell_type": "code",
   "execution_count": 2,
   "metadata": {},
   "outputs": [],
   "source": [
    "import pandas as pd"
   ]
  },
  {
   "cell_type": "markdown",
   "metadata": {},
   "source": [
    "### Loading Data\n",
    "\n",
    "The data can be loaded into a Pandas from CSV files or Excels. Here's an example of loading data from a CSV file:"
   ]
  },
  {
   "cell_type": "code",
   "execution_count": 3,
   "metadata": {},
   "outputs": [],
   "source": [
    "# Load data from a CSV file\n",
    "df = pd.read_csv('./datasets/dataset_racism/twitter_scrapping.csv')"
   ]
  },
  {
   "cell_type": "markdown",
   "metadata": {},
   "source": [
    "### Get The Structure of the DataSet\n",
    "Once the data is loaded, the structure of the data can be obtained by listing the name of the columns"
   ]
  },
  {
   "cell_type": "code",
   "execution_count": 4,
   "metadata": {},
   "outputs": [
    {
     "name": "stdout",
     "output_type": "stream",
     "text": [
      "\n",
      "------------- COLUMN NAMES -------------\n",
      "\n",
      "Unnamed: 0.1\n",
      "Unnamed: 0\n",
      "Nombre de Usuario\n",
      "Nombre Visible\n",
      "ID del Usuario\n",
      "Descripción del Usuario\n",
      "Ubicación\n",
      "Tweet\n",
      "Fecha de Creación\n",
      "Cantidad de likes\n",
      "Idioma\n",
      "En respuesta a\n",
      "\n",
      "--------------- STRUCTURE ---------------\n",
      "\n",
      "Number of rows: 4494508\n",
      "Number of columns: 12\n"
     ]
    }
   ],
   "source": [
    "# Get the column names as a list\n",
    "column_names = df.columns.tolist()\n",
    "\n",
    "# Print the column names\n",
    "print()\n",
    "print(\"------------- COLUMN NAMES -------------\")\n",
    "print()\n",
    "for c in column_names:\n",
    "    print(c)\n",
    "\n",
    "# Get the number of rows and columns\n",
    "num_rows, num_cols = df.shape\n",
    "print()\n",
    "print(\"--------------- STRUCTURE ---------------\")\n",
    "print()\n",
    "print(\"Number of rows:\", num_rows)\n",
    "print(\"Number of columns:\", num_cols)"
   ]
  },
  {
   "cell_type": "markdown",
   "metadata": {},
   "source": [
    "### Exploring the Data\n",
    "\n",
    "Once your data is loaded, you can explore it using various Pandas functions:"
   ]
  },
  {
   "cell_type": "code",
   "execution_count": null,
   "metadata": {},
   "outputs": [],
   "source": [
    "# Display the first few rows\n",
    "print(df.head())\n",
    "\n",
    "# Get information about the DataFrame\n",
    "print(df.info())\n",
    "\n",
    "# Check for missing values\n",
    "print(df.isnull().sum())\n",
    "\n",
    "# Statistical summary\n",
    "print(df.describe())\n"
   ]
  },
  {
   "cell_type": "markdown",
   "metadata": {},
   "source": [
    "### Filtrate the Data\n",
    "Only the tweets in english will be used for the project"
   ]
  },
  {
   "cell_type": "code",
   "execution_count": 6,
   "metadata": {},
   "outputs": [
    {
     "name": "stdout",
     "output_type": "stream",
     "text": [
      "\n",
      "--------------- STRUCTURE ---------------\n",
      "\n",
      "Number of rows: 3715313\n",
      "Number of columns: 12\n"
     ]
    }
   ],
   "source": [
    "filtered_df = df[df['Idioma'] == 'en']\n",
    "\n",
    "# Get the number of rows and columns\n",
    "num_rows, num_cols = filtered_df.shape\n",
    "print()\n",
    "print(\"--------------- STRUCTURE ---------------\")\n",
    "print()\n",
    "print(\"Number of rows:\", num_rows)\n",
    "print(\"Number of columns:\", num_cols)"
   ]
  },
  {
   "cell_type": "markdown",
   "metadata": {},
   "source": [
    "### Create New Structures\n",
    "\n",
    "For this project we need 3 types of files:\n",
    "\n",
    "- CSV1: Realations between users\n",
    "- CSV2: Weigh of each user base on tweeter likes\n",
    "- JSON: Tweeters by each user"
   ]
  },
  {
   "cell_type": "code",
   "execution_count": 10,
   "metadata": {},
   "outputs": [],
   "source": [
    "# Display the first few rows\n",
    "filtered_df.to_csv('./datasets/proccessed/racism/filtered_df.csv', index=False) \n",
    "\n",
    "likes_sum = filtered_df.groupby(\"ID del Usuario\")[\"Cantidad de likes\"].sum()\n",
    "filtered_df = filtered_df[filtered_df[\"ID del Usuario\"].isin(likes_sum[likes_sum > 100].index)]\n",
    "csv_1 = filtered_df[['Nombre Visible', 'En respuesta a']].rename(columns={'Nombre Visible': 'Source', 'En respuesta a': 'Target'}).assign(\n",
    "    Link=1,\n",
    "    Target=lambda df: df['Target'].fillna(df['Source'])\n",
    ").dropna(subset=[\"Target\"])\n",
    "csv_1 = csv_1.groupby(['Source', 'Target'])['Link'].sum().reset_index()\n",
    "csv_1 = csv_1[(csv_1['Link'] >= 100)]\n",
    "csv_1.to_csv('./datasets/proccessed/racism/graph.csv', index=False)\n",
    "\n",
    "csv_2 = filtered_df.groupby('Nombre Visible')['Cantidad de likes'].sum().reset_index()\n",
    "csv_2 = csv_2.rename(columns={'Nombre Visible': 'Visible Name', 'Cantidad de likes': 'Total Likes'})\n",
    "csv_2.to_csv('./datasets/proccessed/racism/likes.csv', index=False)\n"
   ]
  },
  {
   "cell_type": "code",
   "execution_count": 11,
   "metadata": {},
   "outputs": [],
   "source": [
    "import json\n",
    "df_unique = filtered_df.drop_duplicates(subset=['Nombre Visible', 'Tweet'])\n",
    "tweets = df_unique.groupby('Nombre Visible')['Tweet'].apply(list).to_dict()\n",
    "data = [{\"user_id\": user, \"msgs\": msgs} for user, msgs in tweets.items()]\n",
    "\n",
    "json_data = json.dumps(data, indent=4, ensure_ascii=False, separators=(',', ': \\n'))\n",
    "\n",
    "# Save the JSON to a file\n",
    "with open('./datasets/proccessed/racism/tweets_by_user.json', 'w') as f:\n",
    "    f.write(json_data)"
   ]
  }
 ],
 "metadata": {
  "kernelspec": {
   "display_name": ".venv",
   "language": "python",
   "name": "python3"
  },
  "language_info": {
   "codemirror_mode": {
    "name": "ipython",
    "version": 3
   },
   "file_extension": ".py",
   "mimetype": "text/x-python",
   "name": "python",
   "nbconvert_exporter": "python",
   "pygments_lexer": "ipython3",
   "version": "3.10.12"
  }
 },
 "nbformat": 4,
 "nbformat_minor": 2
}
